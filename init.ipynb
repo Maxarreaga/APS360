{
  "nbformat": 4,
  "nbformat_minor": 0,
  "metadata": {
    "colab": {
      "name": "initialization.ipynb",
      "provenance": [],
      "include_colab_link": true
    },
    "kernelspec": {
      "name": "python3",
      "display_name": "Python 3"
    },
    "language_info": {
      "name": "python"
    }
  },
  "cells": [
    {
      "cell_type": "markdown",
      "metadata": {
        "id": "view-in-github",
        "colab_type": "text"
      },
      "source": [
        "<a href=\"https://colab.research.google.com/github/Maxarreaga/APS360/blob/main/init.ipynb\" target=\"_parent\"><img src=\"https://colab.research.google.com/assets/colab-badge.svg\" alt=\"Open In Colab\"/></a>"
      ]
    },
    {
      "cell_type": "markdown",
      "metadata": {
        "id": "jibuAp-jC7te"
      },
      "source": [
        ""
      ]
    },
    {
      "cell_type": "markdown",
      "metadata": {
        "id": "LIdyzH5JHhBW"
      },
      "source": [
        "## This is the initilization for our APS360 Project"
      ]
    },
    {
      "cell_type": "code",
      "metadata": {
        "id": "WU0EGh0oW_al"
      },
      "source": [
        "# Imports\n",
        "from functools import partial\n",
        "import numpy as np\n",
        "import pandas as pd \n",
        "import random \n",
        "import math \n",
        "import cv2 \n",
        "import os \n",
        "import shutil\n",
        "import pathlib\n",
        "from google.colab import files\n",
        "import time\n",
        "import torch\n",
        "import torch.nn as nn\n",
        "import torch.nn.functional as F\n",
        "import torch.optim as optim\n",
        "import torchvision\n",
        "from torch.utils.data.sampler import SubsetRandomSampler\n",
        "import torchvision.transforms as transforms\n",
        "import matplotlib.pyplot as plt"
      ],
      "execution_count": 1,
      "outputs": []
    },
    {
      "cell_type": "code",
      "metadata": {
        "id": "3VMR9U379MF2"
      },
      "source": [
        "!mkdir -p root/.kaggle/"
      ],
      "execution_count": 2,
      "outputs": []
    },
    {
      "cell_type": "code",
      "metadata": {
        "id": "36gCvKnDGbGn",
        "colab": {
          "base_uri": "https://localhost:8080/"
        },
        "outputId": "cd6dc47b-30d8-4e05-c8fe-163773c2e22b"
      },
      "source": [
        "!pip install ray\n",
        "from ray import tune\n",
        "from ray.tune import CLIReporter\n",
        "from ray.tune.schedulers import ASHAScheduler"
      ],
      "execution_count": 3,
      "outputs": [
        {
          "output_type": "stream",
          "name": "stdout",
          "text": [
            "Collecting ray\n",
            "  Downloading ray-1.8.0-cp37-cp37m-manylinux2014_x86_64.whl (54.7 MB)\n",
            "\u001b[K     |████████████████████████████████| 54.7 MB 1.3 MB/s \n",
            "\u001b[?25hCollecting redis>=3.5.0\n",
            "  Downloading redis-4.0.2-py3-none-any.whl (119 kB)\n",
            "\u001b[K     |████████████████████████████████| 119 kB 53.8 MB/s \n",
            "\u001b[?25hRequirement already satisfied: pyyaml in /usr/local/lib/python3.7/dist-packages (from ray) (3.13)\n",
            "Requirement already satisfied: grpcio>=1.28.1 in /usr/local/lib/python3.7/dist-packages (from ray) (1.42.0)\n",
            "Requirement already satisfied: msgpack<2.0.0,>=1.0.0 in /usr/local/lib/python3.7/dist-packages (from ray) (1.0.2)\n",
            "Requirement already satisfied: numpy>=1.16 in /usr/local/lib/python3.7/dist-packages (from ray) (1.19.5)\n",
            "Requirement already satisfied: protobuf>=3.15.3 in /usr/local/lib/python3.7/dist-packages (from ray) (3.17.3)\n",
            "Requirement already satisfied: jsonschema in /usr/local/lib/python3.7/dist-packages (from ray) (2.6.0)\n",
            "Requirement already satisfied: click>=7.0 in /usr/local/lib/python3.7/dist-packages (from ray) (7.1.2)\n",
            "Requirement already satisfied: filelock in /usr/local/lib/python3.7/dist-packages (from ray) (3.4.0)\n",
            "Requirement already satisfied: attrs in /usr/local/lib/python3.7/dist-packages (from ray) (21.2.0)\n",
            "Requirement already satisfied: six>=1.5.2 in /usr/local/lib/python3.7/dist-packages (from grpcio>=1.28.1->ray) (1.15.0)\n",
            "Collecting deprecated\n",
            "  Downloading Deprecated-1.2.13-py2.py3-none-any.whl (9.6 kB)\n",
            "Requirement already satisfied: wrapt<2,>=1.10 in /usr/local/lib/python3.7/dist-packages (from deprecated->redis>=3.5.0->ray) (1.13.3)\n",
            "Installing collected packages: deprecated, redis, ray\n",
            "Successfully installed deprecated-1.2.13 ray-1.8.0 redis-4.0.2\n"
          ]
        }
      ]
    },
    {
      "cell_type": "code",
      "metadata": {
        "id": "p4Y8bSv2FLxj",
        "colab": {
          "resources": {
            "http://localhost:8080/nbextensions/google.colab/files.js": {
              "data": "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",
              "ok": true,
              "headers": [
                [
                  "content-type",
                  "application/javascript"
                ]
              ],
              "status": 200,
              "status_text": ""
            }
          },
          "base_uri": "https://localhost:8080/",
          "height": 140
        },
        "outputId": "59c72b7b-4a52-40d3-df4b-3cf1d9080dcc"
      },
      "source": [
        "def get_kaggle_data():\n",
        "  print('Upload Kaggle api token :')\n",
        "  files.upload()\n",
        "  !pip install -q kaggle\n",
        "  !cp kaggle.json ~/.kaggle/\n",
        "  !ls ~/.kaggle\n",
        "  !chmod 600 /root/.kaggle/kaggle.json \n",
        "\n",
        "  !kaggle datasets download -d meowmeowmeowmeowmeow/gtsrb-german-traffic-sign\n",
        "  !unzip -q /content/gtsrb-german-traffic-sign.zip -d Data\n",
        "\n",
        "get_kaggle_data()"
      ],
      "execution_count": 5,
      "outputs": [
        {
          "output_type": "stream",
          "name": "stdout",
          "text": [
            "Upload Kaggle api token :\n"
          ]
        },
        {
          "output_type": "display_data",
          "data": {
            "text/html": [
              "\n",
              "     <input type=\"file\" id=\"files-b45edadb-d877-42c2-ae5a-cfe5c78cbd72\" name=\"files[]\" multiple disabled\n",
              "        style=\"border:none\" />\n",
              "     <output id=\"result-b45edadb-d877-42c2-ae5a-cfe5c78cbd72\">\n",
              "      Upload widget is only available when the cell has been executed in the\n",
              "      current browser session. Please rerun this cell to enable.\n",
              "      </output>\n",
              "      <script src=\"/nbextensions/google.colab/files.js\"></script> "
            ],
            "text/plain": [
              "<IPython.core.display.HTML object>"
            ]
          },
          "metadata": {}
        },
        {
          "output_type": "stream",
          "name": "stdout",
          "text": [
            "Saving kaggle.json to kaggle (1).json\n",
            "kaggle.json\n",
            "Downloading gtsrb-german-traffic-sign.zip to /content\n",
            " 99% 603M/612M [00:05<00:00, 119MB/s]\n",
            "100% 612M/612M [00:05<00:00, 122MB/s]\n"
          ]
        }
      ]
    },
    {
      "cell_type": "code",
      "metadata": {
        "id": "adbhw4knFMhE"
      },
      "source": [
        "tran = transforms.Compose([transforms.Resize((32,32)),\n",
        "                           transforms.Grayscale(),\n",
        "                           transforms.RandomAffine(degrees=20,translate=(0,0.1),scale=(1,1.2)),\n",
        "                           #transforms.Normalize((0.5,),(0.5,)),\n",
        "                           transforms.ToTensor()\n",
        "                           ])"
      ],
      "execution_count": 6,
      "outputs": []
    },
    {
      "cell_type": "code",
      "metadata": {
        "id": "eFqUvSwoFPH3",
        "colab": {
          "base_uri": "https://localhost:8080/"
        },
        "outputId": "27970ebc-5959-4ae3-d2e5-2d0ff375791b"
      },
      "source": [
        "image_datasets = torchvision.datasets.ImageFolder('/content/Data/Train', transform=tran)\n",
        "\n",
        "num_images = len(image_datasets)\n",
        "train_split_val = round(num_images*0.75)\n",
        "\n",
        "test_set = image_datasets\n",
        "train_set, val_set = torch.utils.data.random_split(image_datasets,[train_split_val,num_images-train_split_val])\n",
        "print('Train Set: ', len(train_set))\n",
        "print('Validation Set: ', len(val_set))\n",
        "print('Test Set: ', len(test_set))\n"
      ],
      "execution_count": 22,
      "outputs": [
        {
          "output_type": "stream",
          "name": "stdout",
          "text": [
            "Train Set:  29407\n",
            "Validation Set:  9802\n",
            "Test Set:  39209\n"
          ]
        }
      ]
    },
    {
      "cell_type": "code",
      "metadata": {
        "id": "xXkO8FEkxHWE",
        "colab": {
          "base_uri": "https://localhost:8080/"
        },
        "outputId": "98081ad0-4741-472a-ea18-9ebd4802e1ae"
      },
      "source": [
        "# Pytorch assigns its own numbers as labels so they dont match up with the folder number names in the dataset\n",
        "# This part is needed to interpret the prediction\n",
        "dict((int(i),int(l)) for l,i in image_datasets.class_to_idx.items())"
      ],
      "execution_count": 8,
      "outputs": [
        {
          "output_type": "execute_result",
          "data": {
            "text/plain": [
              "{0: 0,\n",
              " 1: 1,\n",
              " 2: 10,\n",
              " 3: 11,\n",
              " 4: 12,\n",
              " 5: 13,\n",
              " 6: 14,\n",
              " 7: 15,\n",
              " 8: 16,\n",
              " 9: 17,\n",
              " 10: 18,\n",
              " 11: 19,\n",
              " 12: 2,\n",
              " 13: 20,\n",
              " 14: 21,\n",
              " 15: 22,\n",
              " 16: 23,\n",
              " 17: 24,\n",
              " 18: 25,\n",
              " 19: 26,\n",
              " 20: 27,\n",
              " 21: 28,\n",
              " 22: 29,\n",
              " 23: 3,\n",
              " 24: 30,\n",
              " 25: 31,\n",
              " 26: 32,\n",
              " 27: 33,\n",
              " 28: 34,\n",
              " 29: 35,\n",
              " 30: 36,\n",
              " 31: 37,\n",
              " 32: 38,\n",
              " 33: 39,\n",
              " 34: 4,\n",
              " 35: 40,\n",
              " 36: 41,\n",
              " 37: 42,\n",
              " 38: 5,\n",
              " 39: 6,\n",
              " 40: 7,\n",
              " 41: 8,\n",
              " 42: 9}"
            ]
          },
          "metadata": {},
          "execution_count": 8
        }
      ]
    },
    {
      "cell_type": "code",
      "metadata": {
        "id": "eHf2Hk3rEIUc",
        "colab": {
          "base_uri": "https://localhost:8080/"
        },
        "outputId": "68d07ea4-8238-4e79-e283-6372c7e7efbe"
      },
      "source": [
        "# Creating DataLoader \n",
        "batch_size = 100\n",
        "num_workers = 1\n",
        "print(\"trainSet Columns = {}\", train_set)\n",
        "train_loader = torch.utils.data.DataLoader(train_set, batch_size=batch_size, \n",
        "                                           num_workers=num_workers, shuffle=True)\n",
        "\n",
        "val_loader = torch.utils.data.DataLoader(val_set, batch_size=batch_size, \n",
        "                                           num_workers=num_workers, shuffle=True)\n",
        "\n",
        "test_loader = torch.utils.data.DataLoader(test_set, batch_size=batch_size, \n",
        "                                           num_workers=num_workers, shuffle=True)\n"
      ],
      "execution_count": 23,
      "outputs": [
        {
          "output_type": "stream",
          "name": "stdout",
          "text": [
            "trainSet Columns = {} <torch.utils.data.dataset.Subset object at 0x7f7e24cc1d10>\n"
          ]
        }
      ]
    },
    {
      "cell_type": "code",
      "metadata": {
        "id": "GKukNSryjLQs"
      },
      "source": [
        "def get_accuracy(model, data, device):\n",
        "    \"\"\" Compute the accuracy of the `model` across a dataset `data`\n",
        "    \"\"\"\n",
        "\n",
        "    # From tutorial\n",
        "    correct,total = 0, 0\n",
        "    for img, labels in data:\n",
        "      img, labels = img.to(device), labels.to(device)\n",
        "      result = model(img)\n",
        "      pred = result.max(1,keepdim=True)[1]\n",
        "      correct += pred.eq(labels.view_as(pred)).sum().item()\n",
        "      total += labels.shape[0]\n",
        "    accuracy = correct/total\n",
        "    return accuracy"
      ],
      "execution_count": 10,
      "outputs": []
    },
    {
      "cell_type": "code",
      "metadata": {
        "id": "7-KxzlCNG6JT"
      },
      "source": [
        "# \n",
        "class GTSRBClassifier(nn.Module):\n",
        "  def __init__(self, conv1Channels = 32, conv2Channels = 64, features = 64):\n",
        "    self.name = \"GTSRBClassifier\"\n",
        "    super(GTSRBClassifier,self).__init__()\n",
        "    self.conv1 = nn.Conv2d(1,conv1Channels,3) #format is in (1 if greyscale 3 if rgb),out channel third number, kernel\n",
        "    self.pool = nn.MaxPool2d(2,2)\n",
        "    self.conv2 = nn.Conv2d(conv1Channels,conv2Channels,3)\n",
        "    self.conv3 = nn.Conv2d(conv2Channels,128,3)\n",
        "    self.fc1 = nn.Linear(2*2*128,features)\n",
        "    self.fc2 = nn.Linear(features,43)\n",
        "\n",
        "  def forward(self,image):\n",
        "    image = self.pool(F.relu(self.conv1(image)))\n",
        "    image = self.pool(F.relu(self.conv2(image)))\n",
        "    x = self.pool(F.relu(self.conv3(image)))\n",
        "    #print(\"shape x= {}\",x.shape)\n",
        "    x = x.view(x.size(0), -1) #flattening\n",
        "    x = F.relu(self.fc1(x))\n",
        "    x = self.fc2(x)\n",
        "    x = x.squeeze(1)\n",
        "    return x"
      ],
      "execution_count": 11,
      "outputs": []
    },
    {
      "cell_type": "code",
      "metadata": {
        "id": "Y5pwuAzpUjzx"
      },
      "source": [
        ""
      ],
      "execution_count": null,
      "outputs": []
    },
    {
      "cell_type": "code",
      "metadata": {
        "id": "2ViW2SRfclEI"
      },
      "source": [
        "# Curve Plotting\n",
        "def plotCurve(xData,yData,lineLabel,loss=False):\n",
        "  plt.plot(xData,yData,label=lineLabel)\n",
        "  plt.xlabel(\"Epochs\")\n",
        "  if(loss==True):\n",
        "    plt.ylabel(\"Loss\")\n",
        "    plt.title(\"Epochs vs Loss\")\n",
        "  else:\n",
        "    plt.ylabel(\"Accuracy\")\n",
        "    plt.title(\"Epochs vs Accuracy\")\n",
        "\n",
        "\n",
        "# Training Loop\n",
        "def train(model, train_loader, valid_loader,batch_size=64, num_epochs=5, learning_rate=1e-4,plot=True):\n",
        "    \n",
        "    # allow parallel processing using cuda GPU if available\n",
        "    dev = \"cpu\"\n",
        "    if torch.cuda.is_available():\n",
        "        print(\"cuda available, sending data to GPU\")\n",
        "        dev = \"cuda:0\"\n",
        "        if torch.cuda.device_count() > 1:\n",
        "            model = nn.DataParallel(model)\n",
        "\n",
        "    device = torch.device(dev)  \n",
        "\n",
        "    model.to(device)\n",
        "\n",
        "    # set up  \n",
        "    torch.manual_seed(42)\n",
        "    criterion = nn.CrossEntropyLoss()\n",
        "    optimizer = torch.optim.Adam(model.parameters(), lr=learning_rate)\n",
        "\n",
        "    # Creation of arrays for data recording\n",
        "    trainingLosses = []\n",
        "    validationLosses = []\n",
        "    trainingAccuracy = []\n",
        "    validationAccuracy = []\n",
        "    iterations = []\n",
        "\n",
        "    # Training\n",
        "    for epoch in range(num_epochs):\n",
        "        # Train Loop\n",
        "        print(\"entered training\")\n",
        "        for data,labels  in train_loader:\n",
        "            #send to cuda GPU if available\n",
        "            data, labels = data.to(device), labels.to(device)\n",
        "\n",
        "            #datam = zero_out_random_feature(data.clone()) # zero out one categorical feature\n",
        "            recon = model(data)\n",
        "            loss = criterion(recon, labels)\n",
        "            loss.backward()\n",
        "            optimizer.step()\n",
        "            optimizer.zero_grad()\n",
        "        trainingLosses.append(loss)\n",
        "        trainAccuracy = get_accuracy(model,train_loader,device)\n",
        "        trainingAccuracy.append(trainAccuracy)\n",
        "        iterations.append(epoch)\n",
        "\n",
        "        # get validation data\n",
        "        print(\"exited training\")\n",
        "        #Validation loop\n",
        "        print(\"entered validation\")\n",
        "\n",
        "        val_loss = 0.0\n",
        "        val_steps = 0\n",
        "        total = 0\n",
        "        correct = 0\n",
        "\n",
        "        for data,labels in valid_loader:\n",
        "          #send to cuda GPU if available\n",
        "          data, labels = data.to(device), labels.to(device)\n",
        "\n",
        "          #datam = zero_out_random_feature(data.clone()) # zero out one categorical feature\n",
        "          recon = model(data)\n",
        "          validationLoss = criterion(recon, labels)\n",
        "          val_loss = validationLoss.detach().numpy()\n",
        "          val_steps += 1\n",
        "        validationLosses.append(validationLoss)\n",
        "        validAcc = get_accuracy(model,valid_loader,device)\n",
        "        validationAccuracy.append(validAcc)\n",
        "        if tune.is_session_enabled():\n",
        "          tune.report(loss=val_loss, accuracy=validAcc)\n",
        "        print(\"Epoch {} ended\".format(epoch))\n",
        "        print(\"current Training Loss {}, current validation Loss {} \".format(loss,validationLoss))\n",
        "        print(\"current Training Accuracy {}, current validation Accuracy {} \".format(trainAccuracy,validAcc))\n",
        "        PATH = \"model_{}batchSize{}LearningRate{}Epoch{}\".format(model.name, batch_size, learning_rate, epoch)\n",
        "        torch.save(model.state_dict(), PATH)\n",
        "\n",
        "    #Plotting results\n",
        "    if(plot == True):\n",
        "        plotCurve(xData=iterations,yData=trainingLosses,lineLabel=\"Training\",loss=True)\n",
        "        plotCurve(xData=iterations,yData=validationLosses,lineLabel=\"Validation\",loss=True)\n",
        "        plt.legend()\n",
        "        plt.show()\n",
        "          \n",
        "        plotCurve(xData=iterations,yData=trainingAccuracy,lineLabel=\"Training\",loss=False)\n",
        "        plotCurve(xData=iterations,yData=validationAccuracy,lineLabel=\"Validation\",loss=False)\n",
        "        plt.legend()\n",
        "        plt.show()\n",
        "\n",
        "    print(\"Final training accuracy: {} \\n final validation accuracy: {} \\n final training loss: {} \\n final validation loss: {}\".format(trainAccuracy,validAcc,loss,validationLoss))\n"
      ],
      "execution_count": 24,
      "outputs": []
    },
    {
      "cell_type": "code",
      "metadata": {
        "id": "dbiVgHsexIB-"
      },
      "source": [
        "def test(model, test_loader):\n",
        "\n",
        "  # allow parallel processing using cuda GPU if available\n",
        "  dev = \"cpu\"\n",
        "  if torch.cuda.is_available():\n",
        "      print(\"cuda available, sending data to GPU\")\n",
        "      dev = \"cuda:0\"\n",
        "      if torch.cuda.device_count() > 1:\n",
        "          model = nn.DataParallel(model)\n",
        "\n",
        "  device = torch.device(dev)  \n",
        "  model.to(device)\n",
        "\n",
        "  criterion = nn.CrossEntropyLoss()\n",
        "\n",
        "  #Validation loop\n",
        "  print(\"entered test\")\n",
        "\n",
        "  val_loss = 0.0\n",
        "  val_steps = 0\n",
        "  total = 0\n",
        "  correct = 0\n",
        "\n",
        "  for data,labels in test_loader:\n",
        "\n",
        "    #send to cuda GPU if available\n",
        "    data, labels = data.to(device), labels.to(device)\n",
        "\n",
        "    #datam = zero_out_random_feature(data.clone()) # zero out one categorical feature\n",
        "    recon = model(data)\n",
        "    testLoss = criterion(recon, labels)\n",
        "    val_loss = testLoss.detach().numpy()\n",
        "    val_steps += 1\n",
        "\n",
        "  testAcc = get_accuracy(model,test_loader,device)\n",
        "  \n",
        "  print(\"current test Loss {} \".format(testLoss))\n",
        "  print(\"current test Accuracy {} \".format(testAcc))\n",
        "  print(\"exit test\")"
      ],
      "execution_count": 29,
      "outputs": []
    },
    {
      "cell_type": "code",
      "metadata": {
        "id": "25saP3Ax5i7t",
        "colab": {
          "base_uri": "https://localhost:8080/"
        },
        "outputId": "27b6f3c0-9826-4c84-b7c8-0dd25b633908"
      },
      "source": [
        "# Exports Model for download for real time use\n",
        "x = torch.randn(1,1,32,32)\n",
        "torch_out=model(x)\n",
        "onnx_model_path = \"SignDetector.onnx\"\n",
        "torch.onnx.export(model,x,\"SignDetector.onnx\",export_params=True)"
      ],
      "execution_count": 16,
      "outputs": [
        {
          "output_type": "stream",
          "name": "stderr",
          "text": [
            "/usr/local/lib/python3.7/dist-packages/torch/onnx/symbolic_opset9.py:713: UserWarning: This model contains a squeeze operation on dimension 1. The size of this dimension in the given input is 43. The model will be exported without the squeeze node. If the model is intended to be used with dynamic input shapes, please use opset version 11 to export the model.\n",
            "  \"export the model.\")\n"
          ]
        }
      ]
    },
    {
      "cell_type": "code",
      "metadata": {
        "id": "1rUN5vKwOYu6"
      },
      "source": [
        "config = {\n",
        "    \"c1\": tune.sample_from(lambda _: np.random.randint(75, 130)),\n",
        "    \"c2\": tune.sample_from(lambda _: np.random.randint(50, 145)),\n",
        "    \"f1\": tune.sample_from(lambda _: np.random.randint(50, 150)),\n",
        "    \"lr\": tune.loguniform(8e-4, 4e-3),\n",
        "    \"num_epochs\": tune.sample_from(lambda _: np.random.randint(20, 26)),\n",
        "    \"batch_size\": tune.choice([256, 350, 512, 800, 1024, 1600, 2048])\n",
        "}"
      ],
      "execution_count": 13,
      "outputs": []
    },
    {
      "cell_type": "code",
      "metadata": {
        "id": "EdjDvS9mSBsX"
      },
      "source": [
        "def HyperTuning(config, train_loader, valid_loader):\n",
        "  model = GTSRBClassifier(config[\"c1\"],config[\"c2\"],config[\"f1\"])\n",
        "  train(model, train_loader, valid_loader, batch_size=config[\"batch_size\"], num_epochs=config[\"num_epochs\"], learning_rate=config[\"lr\"], plot=False)"
      ],
      "execution_count": 14,
      "outputs": []
    },
    {
      "cell_type": "code",
      "metadata": {
        "id": "0oLmqQmxZMT-"
      },
      "source": [
        "# Run this for Random Search Hyper Parameter based on Config Dictionary. (Approx 7-8 hours to complete)\n",
        "# If you want to run one model skip this block and run the next\n",
        "smoke_test = False\n",
        "scheduler = ASHAScheduler(\n",
        "        metric=\"loss\",\n",
        "        mode=\"min\")\n",
        "reporter = CLIReporter(\n",
        "        metric_columns=[\"loss\", \"accuracy\"])\n",
        "result = tune.run(partial(HyperTuning, train_loader=train_loader, valid_loader=val_loader),\n",
        "                  config=config,\n",
        "                  scheduler = scheduler,\n",
        "                  num_samples = 5 if smoke_test else 20,\n",
        "                  progress_reporter = reporter,\n",
        "                  resources_per_trial={\"cpu\": 2, \"gpu\": 0})\n",
        "configlist = result.get_all_configs()\n",
        "btrial = result.get_best_trial(\"loss\", \"min\", \"last\")\n",
        "print(configlist)\n",
        "print(\"Best config: \", btrial.config)\n",
        "print(\"Best trial loss: \", btrial.last_result[\"loss\"])\n",
        "print(\"Best trial accuracy: \", btrial.last_result[\"accuracy\"])"
      ],
      "execution_count": null,
      "outputs": []
    },
    {
      "cell_type": "code",
      "metadata": {
        "id": "RPGh45sUQyfy",
        "colab": {
          "base_uri": "https://localhost:8080/",
          "height": 1000
        },
        "outputId": "832c2942-0a60-49b0-8515-928b2983c5e0"
      },
      "source": [
        "#running the actual loop on current best parameters\n",
        "model = GTSRBClassifier(conv1Channels=83, conv2Channels=94, features=147)\n",
        "batch_size = 800\n",
        "epochs = 24\n",
        "learningRate = 0.000922458\n",
        "#print(type(train_loader))\n",
        "train(model=model,train_loader=train_loader,valid_loader=val_loader,batch_size=batch_size,num_epochs=epochs,learning_rate=learningRate,plot=True)"
      ],
      "execution_count": 15,
      "outputs": [
        {
          "output_type": "stream",
          "name": "stdout",
          "text": [
            "entered training\n",
            "exited training\n",
            "entered validation\n",
            "Epoch 0 ended\n",
            "current Training Loss 2.587496042251587, current validation Loss 3.453752279281616 \n",
            "current Training Accuracy 0.3892950658006597, current validation Accuracy 0.38941032442358703 \n",
            "entered training\n",
            "exited training\n",
            "entered validation\n",
            "Epoch 1 ended\n",
            "current Training Loss 1.0953322649002075, current validation Loss 1.4991158246994019 \n",
            "current Training Accuracy 0.6780018362974802, current validation Accuracy 0.6764945929402163 \n",
            "entered training\n",
            "exited training\n",
            "entered validation\n",
            "Epoch 2 ended\n",
            "current Training Loss 1.044048547744751, current validation Loss 0.06466948986053467 \n",
            "current Training Accuracy 0.7702247764137791, current validation Accuracy 0.7738216690471332 \n",
            "entered training\n",
            "exited training\n",
            "entered validation\n",
            "Epoch 3 ended\n",
            "current Training Loss 1.0628063678741455, current validation Loss 0.049308616667985916 \n",
            "current Training Accuracy 0.8382017886897677, current validation Accuracy 0.839420526423179 \n",
            "entered training\n",
            "exited training\n",
            "entered validation\n",
            "Epoch 4 ended\n",
            "current Training Loss 0.11393661797046661, current validation Loss 0.0001022165670292452 \n",
            "current Training Accuracy 0.8586050940252321, current validation Accuracy 0.8600285655988574 \n",
            "entered training\n",
            "exited training\n",
            "entered validation\n",
            "Epoch 5 ended\n",
            "current Training Loss 0.1390155404806137, current validation Loss 0.06177162751555443 \n",
            "current Training Accuracy 0.8885639473594722, current validation Accuracy 0.8830850846765966 \n",
            "entered training\n",
            "exited training\n",
            "entered validation\n",
            "Epoch 6 ended\n",
            "current Training Loss 0.09424436837434769, current validation Loss 0.00030109466752037406 \n",
            "current Training Accuracy 0.91988302104941, current validation Accuracy 0.9152213833911447 \n",
            "entered training\n",
            "exited training\n",
            "entered validation\n",
            "Epoch 7 ended\n",
            "current Training Loss 0.05150695517659187, current validation Loss 0.17683793604373932 \n",
            "current Training Accuracy 0.9255619410344476, current validation Accuracy 0.9217506631299734 \n",
            "entered training\n",
            "exited training\n",
            "entered validation\n",
            "Epoch 8 ended\n",
            "current Training Loss 0.07505875825881958, current validation Loss 2.2402918338775635 \n",
            "current Training Accuracy 0.9402523208759819, current validation Accuracy 0.9357274025709039 \n",
            "entered training\n",
            "exited training\n",
            "entered validation\n",
            "Epoch 9 ended\n",
            "current Training Loss 0.16054952144622803, current validation Loss 0.007465945556759834 \n",
            "current Training Accuracy 0.9436868772741184, current validation Accuracy 0.9427667822893288 \n",
            "entered training\n",
            "exited training\n",
            "entered validation\n",
            "Epoch 10 ended\n",
            "current Training Loss 0.09641712158918381, current validation Loss 0.00957255344837904 \n",
            "current Training Accuracy 0.9525623150950454, current validation Accuracy 0.9473576821056927 \n",
            "entered training\n",
            "exited training\n",
            "entered validation\n",
            "Epoch 11 ended\n",
            "current Training Loss 0.32507559657096863, current validation Loss 0.17051054537296295 \n",
            "current Training Accuracy 0.944809059067569, current validation Accuracy 0.9405223423791063 \n",
            "entered training\n",
            "exited training\n",
            "entered validation\n",
            "Epoch 12 ended\n",
            "current Training Loss 0.00352859846316278, current validation Loss 1.364929812552873e-05 \n",
            "current Training Accuracy 0.9582752405889754, current validation Accuracy 0.9517445419302183 \n",
            "entered training\n",
            "exited training\n",
            "entered validation\n",
            "Epoch 13 ended\n",
            "current Training Loss 0.037389110773801804, current validation Loss 0.16231080889701843 \n",
            "current Training Accuracy 0.9646342707518618, current validation Accuracy 0.9562334217506632 \n",
            "entered training\n",
            "exited training\n",
            "entered validation\n",
            "Epoch 14 ended\n",
            "current Training Loss 0.40896037220954895, current validation Loss 0.00010597132495604455 \n",
            "current Training Accuracy 0.9588193287312544, current validation Accuracy 0.9525607018975719 \n",
            "entered training\n",
            "exited training\n",
            "entered validation\n",
            "Epoch 15 ended\n",
            "current Training Loss 0.009134786203503609, current validation Loss 0.008328203111886978 \n",
            "current Training Accuracy 0.9689529703812018, current validation Accuracy 0.9619465415221383 \n",
            "entered training\n",
            "exited training\n",
            "entered validation\n",
            "Epoch 16 ended\n",
            "current Training Loss 0.01802636682987213, current validation Loss 0.09714607149362564 \n",
            "current Training Accuracy 0.969361036487911, current validation Accuracy 0.9616404815343808 \n",
            "entered training\n",
            "exited training\n",
            "entered validation\n",
            "Epoch 17 ended\n",
            "current Training Loss 0.05953521281480789, current validation Loss 0.04331011697649956 \n",
            "current Training Accuracy 0.973985785697283, current validation Accuracy 0.9702101611915935 \n",
            "entered training\n",
            "exited training\n",
            "entered validation\n",
            "Epoch 18 ended\n",
            "current Training Loss 0.024336393922567368, current validation Loss 0.006608822848647833 \n",
            "current Training Accuracy 0.9704492127724691, current validation Accuracy 0.9638849214446031 \n",
            "entered training\n",
            "exited training\n",
            "entered validation\n",
            "Epoch 19 ended\n",
            "current Training Loss 0.0004849223478231579, current validation Loss 0.0003517249715514481 \n",
            "current Training Accuracy 0.9670146563743326, current validation Accuracy 0.9628647214854111 \n",
            "entered training\n",
            "exited training\n",
            "entered validation\n",
            "Epoch 20 ended\n",
            "current Training Loss 0.049216337502002716, current validation Loss 0.0023730313405394554 \n",
            "current Training Accuracy 0.979154623048934, current validation Accuracy 0.9697000612119976 \n",
            "entered training\n",
            "exited training\n",
            "entered validation\n",
            "Epoch 21 ended\n",
            "current Training Loss 0.001244792016223073, current validation Loss 0.00744124548509717 \n",
            "current Training Accuracy 0.9786785459244398, current validation Accuracy 0.9735768210569271 \n",
            "entered training\n",
            "exited training\n",
            "entered validation\n",
            "Epoch 22 ended\n",
            "current Training Loss 0.01207403652369976, current validation Loss 5.781626441603294e-06 \n",
            "current Training Accuracy 0.973985785697283, current validation Accuracy 0.9684758212609671 \n",
            "entered training\n",
            "exited training\n",
            "entered validation\n",
            "Epoch 23 ended\n",
            "current Training Loss 0.0014405258698388934, current validation Loss 0.008040221408009529 \n",
            "current Training Accuracy 0.981398986635835, current validation Accuracy 0.9742909610283615 \n"
          ]
        },
        {
          "output_type": "display_data",
          "data": {
            "image/png": "[encoded data removed]",
            "text/plain": [
              "<Figure size 432x288 with 1 Axes>"
            ]
          },
          "metadata": {
            "needs_background": "light"
          }
        },
        {
          "output_type": "display_data",
          "data": {
            "image/png": "[encoded data removed]",
            "text/plain": [
              "<Figure size 432x288 with 1 Axes>"
            ]
          },
          "metadata": {
            "needs_background": "light"
          }
        },
        {
          "output_type": "stream",
          "name": "stdout",
          "text": [
            "Final training accuracy: 0.981398986635835 \n",
            " final validation accuracy: 0.9742909610283615 \n",
            " final training loss: 0.0014405258698388934 \n",
            " final validation loss: 0.008040221408009529\n"
          ]
        }
      ]
    },
    {
      "cell_type": "code",
      "metadata": {
        "id": "h2aly0ewxW9v",
        "outputId": "fc6c05ec-8702-4b1b-d6bc-525e186a3383",
        "colab": {
          "base_uri": "https://localhost:8080/"
        }
      },
      "source": [
        "test(model=model, test_loader=test_loader)"
      ],
      "execution_count": 32,
      "outputs": [
        {
          "output_type": "stream",
          "name": "stdout",
          "text": [
            "entered test\n",
            "current test Loss 0.008387191221117973 \n",
            "current test Accuracy 0.9794945038129002 \n",
            "exit test\n"
          ]
        }
      ]
    }
  ]
}