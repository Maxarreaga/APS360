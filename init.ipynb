{
  "nbformat": 4,
  "nbformat_minor": 0,
  "metadata": {
    "colab": {
      "name": "initialization.ipynb",
      "provenance": [],
      "include_colab_link": true
    },
    "kernelspec": {
      "name": "python3",
      "display_name": "Python 3"
    },
    "language_info": {
      "name": "python"
    }
  },
  "cells": [
    {
      "cell_type": "markdown",
      "metadata": {
        "id": "view-in-github",
        "colab_type": "text"
      },
      "source": [
        "<a href=\"https://colab.research.google.com/github/Maxarreaga/APS360/blob/main/init.ipynb\" target=\"_parent\"><img src=\"https://colab.research.google.com/assets/colab-badge.svg\" alt=\"Open In Colab\"/></a>"
      ]
    },
    {
      "cell_type": "markdown",
      "metadata": {
        "id": "LIdyzH5JHhBW"
      },
      "source": [
        "## This is the initilization for our APS360 Project"
      ]
    },
    {
      "cell_type": "code",
      "metadata": {
        "id": "WU0EGh0oW_al"
      },
      "source": [
        "# Imports\n",
        "import numpy as np\n",
        "import pandas as pd \n",
        "import random \n",
        "import math \n",
        "import cv2 \n",
        "import os \n",
        "import shutil\n",
        "import pathlib\n",
        "from google.colab import files\n",
        "import time\n",
        "import torch\n",
        "import torch.nn as nn\n",
        "import torch.nn.functional as F\n",
        "import torch.optim as optim\n",
        "import torchvision\n",
        "from torch.utils.data.sampler import SubsetRandomSampler\n",
        "import torchvision.transforms as transforms\n",
        "import matplotlib.pyplot as plt"
      ],
      "execution_count": 96,
      "outputs": []
    },
    {
      "cell_type": "code",
      "metadata": {
        "id": "3VMR9U379MF2"
      },
      "source": [
        "!mkdir -p root/.kaggle/"
      ],
      "execution_count": 2,
      "outputs": []
    },
    {
      "cell_type": "code",
      "metadata": {
        "id": "p4Y8bSv2FLxj",
        "colab": {
          "resources": {
            "http://localhost:8080/nbextensions/google.colab/files.js": {
              "data": "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",
              "ok": true,
              "headers": [
                [
                  "content-type",
                  "application/javascript"
                ]
              ],
              "status": 200,
              "status_text": ""
            }
          },
          "base_uri": "https://localhost:8080/",
          "height": 161
        },
        "outputId": "e535bb83-f7ea-49a1-bd7e-bb877c7bab4d"
      },
      "source": [
        "def get_kaggle_data():\n",
        "  print('Upload Kaggle api token :')\n",
        "  files.upload()\n",
        "  !pip install -q kaggle\n",
        "  !cp kaggle.json ~/.kaggle/\n",
        "  !ls ~/.kaggle\n",
        "  !chmod 600 /root/.kaggle/kaggle.json \n",
        "\n",
        "  !kaggle datasets download -d meowmeowmeowmeowmeow/gtsrb-german-traffic-sign\n",
        "  !unzip -q /content/gtsrb-german-traffic-sign.zip -d Data\n",
        "\n",
        "get_kaggle_data()"
      ],
      "execution_count": 4,
      "outputs": [
        {
          "output_type": "stream",
          "name": "stdout",
          "text": [
            "Upload Kaggle api token :\n"
          ]
        },
        {
          "output_type": "display_data",
          "data": {
            "text/html": [
              "\n",
              "     <input type=\"file\" id=\"files-9ba0e504-bfb9-4e10-b664-d8ee0d51106d\" name=\"files[]\" multiple disabled\n",
              "        style=\"border:none\" />\n",
              "     <output id=\"result-9ba0e504-bfb9-4e10-b664-d8ee0d51106d\">\n",
              "      Upload widget is only available when the cell has been executed in the\n",
              "      current browser session. Please rerun this cell to enable.\n",
              "      </output>\n",
              "      <script src=\"/nbextensions/google.colab/files.js\"></script> "
            ],
            "text/plain": [
              "<IPython.core.display.HTML object>"
            ]
          },
          "metadata": {}
        },
        {
          "output_type": "stream",
          "name": "stdout",
          "text": [
            "Saving kaggle.json to kaggle (1).json\n",
            "kaggle.json\n",
            "Downloading gtsrb-german-traffic-sign.zip to /content\n",
            " 97% 596M/612M [00:04<00:00, 130MB/s]\n",
            "100% 612M/612M [00:05<00:00, 125MB/s]\n"
          ]
        }
      ]
    },
    {
      "cell_type": "code",
      "metadata": {
        "id": "adbhw4knFMhE"
      },
      "source": [
        "tran = transforms.Compose([transforms.Resize((32,32)),\n",
        "                           transforms.Grayscale(),\n",
        "                           transforms.RandomAffine(degrees=20,translate=(0,0.1),scale=(1,1.2)),\n",
        "                           #transforms.Normalize((0.5,),(0.5,)),\n",
        "                           transforms.ToTensor()\n",
        "                           ])"
      ],
      "execution_count": 48,
      "outputs": []
    },
    {
      "cell_type": "code",
      "metadata": {
        "id": "eFqUvSwoFPH3",
        "colab": {
          "base_uri": "https://localhost:8080/"
        },
        "outputId": "08b449de-5946-4e55-84fd-4d033ad49b44"
      },
      "source": [
        "image_datasets = torchvision.datasets.ImageFolder('/content/Data/Train', transform=tran)\n",
        "\n",
        "num_images = len(image_datasets)\n",
        "train_split_val = round(num_images*0.75)\n",
        "\n",
        "\n",
        "train_set, val_set = torch.utils.data.random_split(image_datasets,[train_split_val,num_images-train_split_val])\n",
        "print('Train Set: ', len(train_set))\n",
        "print('Validation Set: ', len(val_set))"
      ],
      "execution_count": 58,
      "outputs": [
        {
          "output_type": "stream",
          "name": "stdout",
          "text": [
            "Train Set:  29407\n",
            "Validation Set:  9802\n"
          ]
        }
      ]
    },
    {
      "cell_type": "code",
      "metadata": {
        "id": "eHf2Hk3rEIUc",
        "colab": {
          "base_uri": "https://localhost:8080/"
        },
        "outputId": "90b72a62-0885-4e26-ccf9-4db22d3b57c3"
      },
      "source": [
        "# Creating DataLoader \n",
        "batch_size = 100\n",
        "num_workers = 1\n",
        "print(\"trainSet Columns = {}\", train_set)\n",
        "train_loader = torch.utils.data.DataLoader(train_set, batch_size=batch_size, \n",
        "                                           num_workers=num_workers, shuffle=True)\n",
        "\n",
        "val_loader = torch.utils.data.DataLoader(val_set, batch_size=batch_size, \n",
        "                                           num_workers=num_workers, shuffle=True)\n"
      ],
      "execution_count": 50,
      "outputs": [
        {
          "output_type": "stream",
          "name": "stdout",
          "text": [
            "trainSet Columns = {} <torch.utils.data.dataset.Subset object at 0x7f126ef030d0>\n"
          ]
        }
      ]
    },
    {
      "cell_type": "code",
      "metadata": {
        "id": "GKukNSryjLQs"
      },
      "source": [
        "def get_accuracy(model, data):\n",
        "    \"\"\" Compute the accuracy of the `model` across a dataset `data`\n",
        "    \"\"\"\n",
        "\n",
        "    # From tutorial\n",
        "    correct,total = 0, 0\n",
        "    for img, labels in data:\n",
        "      result = model(img)\n",
        "      pred = result.max(1,keepdim=True)[1]\n",
        "      correct += pred.eq(labels.view_as(pred)).sum().item()\n",
        "      total += labels.shape[0]\n",
        "    accuracy = correct/total\n",
        "    return accuracy"
      ],
      "execution_count": 86,
      "outputs": []
    },
    {
      "cell_type": "code",
      "metadata": {
        "id": "7-KxzlCNG6JT"
      },
      "source": [
        "# \n",
        "class GTSRBClassifier(nn.Module):\n",
        "  def __init__(self):\n",
        "    self.name = \"GTSRBClassifier\"\n",
        "    super(GTSRBClassifier,self).__init__()\n",
        "    self.conv1 = nn.Conv2d(1,32,3) #format is in (1 if greyscale 3 if rgb),out channel third number, kernel\n",
        "    self.pool = nn.MaxPool2d(2,2)\n",
        "    self.conv2 = nn.Conv2d(32,64,3)\n",
        "    self.conv3 = nn.Conv2d(64,128,3)\n",
        "    self.fc1 = nn.Linear(2*2*128,64)\n",
        "    self.fc2 = nn.Linear(64,43)\n",
        "\n",
        "  def forward(self,image):\n",
        "    image = self.pool(F.relu(self.conv1(image)))\n",
        "    image = self.pool(F.relu(self.conv2(image)))\n",
        "    x = self.pool(F.relu(self.conv3(image)))\n",
        "    #print(\"shape x= {}\",x.shape)\n",
        "    x = x.view(x.size(0), -1) #flattening\n",
        "    x = F.relu(self.fc1(x))\n",
        "    x = self.fc2(x)\n",
        "    x = x.squeeze(1)\n",
        "    return x"
      ],
      "execution_count": 92,
      "outputs": []
    },
    {
      "cell_type": "code",
      "metadata": {
        "id": "Y5pwuAzpUjzx"
      },
      "source": [
        ""
      ],
      "execution_count": 42,
      "outputs": []
    },
    {
      "cell_type": "code",
      "metadata": {
        "id": "2ViW2SRfclEI"
      },
      "source": [
        "# Curve Plotting\n",
        "def plotCurve(xData,yData,lineLabel,loss=False):\n",
        "  plt.plot(xData,yData,label=lineLabel)\n",
        "  plt.xlabel(\"Epochs\")\n",
        "  if(loss==True):\n",
        "    plt.ylabel(\"Loss\")\n",
        "    plt.title(\"Epochs vs Loss\")\n",
        "  else:\n",
        "    plt.ylabel(\"Accuracy\")\n",
        "    plt.title(\"Epochs vs Accuracy\")\n",
        "\n",
        "\n",
        "# Training Loop\n",
        "def train(model, train_loader, valid_loader,batch_size=64, num_epochs=5, learning_rate=1e-4,plot=True):\n",
        "    \n",
        "  \n",
        "    # set up  \n",
        "    torch.manual_seed(42)\n",
        "    criterion = nn.CrossEntropyLoss()\n",
        "    optimizer = torch.optim.Adam(model.parameters(), lr=learning_rate)\n",
        "\n",
        "    # Creation of arrays for data recording\n",
        "    trainingLosses = []\n",
        "    validationLosses = []\n",
        "    trainingAccuracy = []\n",
        "    validationAccuracy = []\n",
        "    iterations = []\n",
        "\n",
        "    # Training\n",
        "    for epoch in range(num_epochs):\n",
        "        # Train Loop\n",
        "        print(\"entered training\")\n",
        "        for data,labels  in train_loader:\n",
        "            #datam = zero_out_random_feature(data.clone()) # zero out one categorical feature\n",
        "            recon = model(data)\n",
        "            loss = criterion(recon, labels)\n",
        "            loss.backward()\n",
        "            optimizer.step()\n",
        "            optimizer.zero_grad()\n",
        "        trainingLosses.append(loss)\n",
        "        trainAccuracy = get_accuracy(model,train_loader)\n",
        "        trainingAccuracy.append(trainAccuracy)\n",
        "        iterations.append(epoch)\n",
        "        # get validation data\n",
        "        print(\"exited training\")\n",
        "        #Validation loop\n",
        "        print(\"entered validation\")\n",
        "        for data,labels in valid_loader:\n",
        "          #datam = zero_out_random_feature(data.clone()) # zero out one categorical feature\n",
        "          recon = model(data)\n",
        "          validationLoss = criterion(recon, labels)\n",
        "        validationLosses.append(validationLoss)\n",
        "        validAcc = get_accuracy(model,valid_loader)\n",
        "        validationAccuracy.append(validAcc)\n",
        "        print(\"Epoch {} ended\".format(epoch))\n",
        "        print(\"current Training Loss {}, current validation Loss {} \".format(loss,validationLoss))\n",
        "        print(\"current Training Accuracy {}, current validation Accuracy {} \".format(trainAccuracy,validAcc))\n",
        "        PATH = \"model_{}batchSize{}LearningRate{}Epoch{}\".format(model.name, batch_size, learning_rate, epoch)\n",
        "        torch.save(model.state_dict(), PATH)\n",
        "\n",
        "    #Plotting results\n",
        "    if(plot == True):\n",
        "        plotCurve(xData=iterations,yData=trainingLosses,lineLabel=\"Training\",loss=True)\n",
        "        plotCurve(xData=iterations,yData=validationLosses,lineLabel=\"Validation\",loss=True)\n",
        "        plt.legend()\n",
        "        plt.show()\n",
        "          \n",
        "        plotCurve(xData=iterations,yData=trainingAccuracy,lineLabel=\"Training\",loss=False)\n",
        "        plotCurve(xData=iterations,yData=validationAccuracy,lineLabel=\"Validation\",loss=False)\n",
        "        plt.legend()\n",
        "        plt.show()\n",
        "\n",
        "    print(\"Final training accuracy: {} \\n final validation accuracy: {} \\n final training loss: {} \\n final validation loss: {}\".format(trainAccuracy,validAcc,loss,validationLoss))"
      ],
      "execution_count": 100,
      "outputs": []
    },
    {
      "cell_type": "code",
      "metadata": {
        "id": "RPGh45sUQyfy",
        "colab": {
          "base_uri": "https://localhost:8080/",
          "height": 1000
        },
        "outputId": "d7b48cfc-1844-4575-ee09-f19c449a5e51"
      },
      "source": [
        "#running the actual loop\n",
        "model = GTSRBClassifier()\n",
        "batch_size = 512\n",
        "epochs = 20\n",
        "learningRate = 3e-3\n",
        "#print(type(train_loader))\n",
        "train(model=model,train_loader=train_loader,valid_loader=val_loader,batch_size=batch_size,num_epochs=epochs,learning_rate=learningRate,plot=True)"
      ],
      "execution_count": 98,
      "outputs": [
        {
          "output_type": "stream",
          "name": "stdout",
          "text": [
            "entered training\n",
            "exited training\n",
            "entered validation\n",
            "Epoch {} ended 0\n",
            "current Training Loss 2.149054765701294, current validation Loss 0.9152277112007141 \n",
            "current Training Accuracy 0.48267419321930155, current validation Accuracy 0.4761273209549072 \n",
            "entered training\n",
            "exited training\n",
            "entered validation\n",
            "Epoch {} ended 1\n",
            "current Training Loss 0.5729113817214966, current validation Loss 0.16136892139911652 \n",
            "current Training Accuracy 0.793450538987316, current validation Accuracy 0.7863701285451948 \n",
            "entered training\n",
            "exited training\n",
            "entered validation\n",
            "Epoch {} ended 2\n",
            "current Training Loss 0.03342427685856819, current validation Loss 1.2324714660644531 \n",
            "current Training Accuracy 0.8522120583534533, current validation Accuracy 0.8512548459498062 \n",
            "entered training\n",
            "exited training\n",
            "entered validation\n",
            "Epoch {} ended 3\n",
            "current Training Loss 0.14262321591377258, current validation Loss 1.8171476125717163 \n",
            "current Training Accuracy 0.8889380079572891, current validation Accuracy 0.8862477045500918 \n",
            "entered training\n",
            "exited training\n",
            "entered validation\n",
            "Epoch {} ended 4\n",
            "current Training Loss 0.4049687683582306, current validation Loss 0.2496654987335205 \n",
            "current Training Accuracy 0.9245757812765668, current validation Accuracy 0.9211385431544583 \n",
            "entered training\n",
            "exited training\n",
            "entered validation\n",
            "Epoch {} ended 5\n",
            "current Training Loss 0.2393677681684494, current validation Loss 0.13087955117225647 \n",
            "current Training Accuracy 0.9342673513109123, current validation Accuracy 0.9311365027545399 \n",
            "entered training\n",
            "exited training\n",
            "entered validation\n",
            "Epoch {} ended 6\n",
            "current Training Loss 0.06624671816825867, current validation Loss 0.034862667322158813 \n",
            "current Training Accuracy 0.9340293127486653, current validation Accuracy 0.9321567027137319 \n",
            "entered training\n",
            "exited training\n",
            "entered validation\n",
            "Epoch {} ended 7\n",
            "current Training Loss 0.19790036976337433, current validation Loss 2.9802313861182483e-07 \n",
            "current Training Accuracy 0.9428027340429149, current validation Accuracy 0.9361354825545807 \n",
            "entered training\n",
            "exited training\n",
            "entered validation\n",
            "Epoch {} ended 8\n",
            "current Training Loss 0.5233511328697205, current validation Loss 0.02392422966659069 \n",
            "current Training Accuracy 0.9491277586969089, current validation Accuracy 0.9448071822077128 \n",
            "entered training\n",
            "exited training\n",
            "entered validation\n",
            "Epoch {} ended 9\n",
            "current Training Loss 0.019964853301644325, current validation Loss 0.0012200092896819115 \n",
            "current Training Accuracy 0.9451491141564934, current validation Accuracy 0.9418486023260559 \n",
            "entered training\n",
            "exited training\n",
            "entered validation\n",
            "Epoch {} ended 10\n",
            "current Training Loss 0.8399800062179565, current validation Loss 0.0001293331297347322 \n",
            "current Training Accuracy 0.9512361002482402, current validation Accuracy 0.9442970822281167 \n",
            "entered training\n",
            "exited training\n",
            "entered validation\n",
            "Epoch {} ended 11\n",
            "current Training Loss 1.0109912157058716, current validation Loss 0.0030811664182692766 \n",
            "current Training Accuracy 0.9546366511374843, current validation Accuracy 0.9504182819832687 \n",
            "entered training\n",
            "exited training\n",
            "entered validation\n",
            "Epoch {} ended 12\n",
            "current Training Loss 0.1417606920003891, current validation Loss 0.0264459028840065 \n",
            "current Training Accuracy 0.9461012684054817, current validation Accuracy 0.9412364823505407 \n",
            "entered training\n",
            "exited training\n",
            "entered validation\n",
            "Epoch {} ended 13\n",
            "current Training Loss 0.09468132257461548, current validation Loss 0.019544748589396477 \n",
            "current Training Accuracy 0.9687829428367396, current validation Accuracy 0.9652111813915527 \n",
            "entered training\n",
            "exited training\n",
            "entered validation\n",
            "Epoch {} ended 14\n",
            "current Training Loss 0.0021629652474075556, current validation Loss 0.0024951626546680927 \n",
            "current Training Accuracy 0.9638861495562281, current validation Accuracy 0.9619465415221383 \n",
            "entered training\n",
            "exited training\n",
            "entered validation\n",
            "Epoch {} ended 15\n",
            "current Training Loss 0.04064369946718216, current validation Loss 3.623831435106695e-05 \n",
            "current Training Accuracy 0.9719454551637365, current validation Accuracy 0.9712303611507855 \n",
            "entered training\n",
            "exited training\n",
            "entered validation\n",
            "Epoch {} ended 16\n",
            "current Training Loss 0.0019551364239305258, current validation Loss 0.00055825209710747 \n",
            "current Training Accuracy 0.9713673615125651, current validation Accuracy 0.9672515813099367 \n",
            "entered training\n",
            "exited training\n",
            "entered validation\n",
            "Epoch {} ended 17\n",
            "current Training Loss 0.19260914623737335, current validation Loss 0.007519309874624014 \n",
            "current Training Accuracy 0.9653823919474955, current validation Accuracy 0.9621505815139767 \n",
            "entered training\n",
            "exited training\n",
            "entered validation\n",
            "Epoch {} ended 18\n",
            "current Training Loss 0.013575829565525055, current validation Loss 0.00040635705227032304 \n",
            "current Training Accuracy 0.9762981603019689, current validation Accuracy 0.9740869210365232 \n",
            "entered training\n",
            "exited training\n",
            "entered validation\n",
            "Epoch {} ended 19\n",
            "current Training Loss 0.0026018472854048014, current validation Loss 0.0027992893010377884 \n",
            "current Training Accuracy 0.9709592954058558, current validation Accuracy 0.9703121811875127 \n"
          ]
        },
        {
          "output_type": "display_data",
          "data": {
            "image/png": "[encoded data removed]",
            "text/plain": [
              "<Figure size 432x288 with 1 Axes>"
            ]
          },
          "metadata": {
            "needs_background": "light"
          }
        },
        {
          "output_type": "display_data",
          "data": {
            "image/png": "[encoded data removed]",
            "text/plain": [
              "<Figure size 432x288 with 1 Axes>"
            ]
          },
          "metadata": {
            "needs_background": "light"
          }
        },
        {
          "output_type": "stream",
          "name": "stdout",
          "text": [
            "Final training accuracy: 0.9709592954058558 \n",
            " final validation accuracy: 0.9703121811875127 \n",
            " final training loss: 0.0026018472854048014 \n",
            " final validation loss: 0.0027992893010377884\n"
          ]
        }
      ]
    }
  ]
}